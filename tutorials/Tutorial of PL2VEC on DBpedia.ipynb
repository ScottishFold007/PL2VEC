{
 "cells": [
  {
   "cell_type": "code",
   "execution_count": 1,
   "metadata": {},
   "outputs": [
    {
     "data": {
      "text/plain": [
       "'/home/demir/Desktop/physical_embedding'"
      ]
     },
     "execution_count": 1,
     "metadata": {},
     "output_type": "execute_result"
    }
   ],
   "source": [
    "import os\n",
    "import sys\n",
    "import numpy as np\n",
    "import random\n",
    "os.chdir('..')\n",
    "os.getcwd()"
   ]
  },
  {
   "cell_type": "code",
   "execution_count": 2,
   "metadata": {},
   "outputs": [],
   "source": [
    "from helper_classes import PL2VEC\n",
    "from helper_classes import Parser\n",
    "from helper_classes import DataAnalyser\n",
    "import util as ut"
   ]
  },
  {
   "cell_type": "code",
   "execution_count": 3,
   "metadata": {},
   "outputs": [],
   "source": [
    "## Set seet for number generator\n",
    "random_state = 1\n",
    "np.random.seed(random_state)\n",
    "random.seed(random_state)"
   ]
  },
  {
   "cell_type": "code",
   "execution_count": 4,
   "metadata": {},
   "outputs": [],
   "source": [
    "# DEFINE MODEL PARAMS\n",
    "K = 5\n",
    "num_of_dims = 50\n",
    "bound_on_iter = 15\n",
    "negative_constant = -1\n",
    "e_release = 0.001\n",
    "num_sample_from_clusters = 4\n",
    "system_energy = 10"
   ]
  },
  {
   "cell_type": "code",
   "execution_count": 5,
   "metadata": {},
   "outputs": [],
   "source": [
    "# Define paths\n",
    "kg_root = 'KGs/DBpedia'\n",
    "kg_path = kg_root + '/skos_categories_en.ttl.bz2'\n",
    "dl_learner_path = '/home/demir/Desktop/physical_embedding/dllearner-1.3.0/bin/cli'"
   ]
  },
  {
   "cell_type": "code",
   "execution_count": 6,
   "metadata": {},
   "outputs": [],
   "source": [
    "storage_path, experiment_folder = ut.create_experiment_folder()"
   ]
  },
  {
   "cell_type": "code",
   "execution_count": 7,
   "metadata": {},
   "outputs": [
    {
     "name": "stdout",
     "output_type": "stream",
     "text": [
      "\n",
      "###### KG to PPMI Matrix  starts ######\n",
      "KG to PPMI Matrix  took  1.4447062015533447  seconds\n",
      "\n"
     ]
    }
   ],
   "source": [
    "parser = Parser(p_folder=storage_path)\n",
    "\n",
    "model = PL2VEC(system_energy=system_energy)\n",
    "\n",
    "analyser = DataAnalyser(p_folder=storage_path, execute_DL_Learner=dl_learner_path)\n",
    "\n",
    "stats_corpus_info = parser.construct_comatrix(kg_path, bound=50000, bound_flag=True)\n",
    "vocab_size = len(stats_corpus_info)"
   ]
  },
  {
   "cell_type": "code",
   "execution_count": 8,
   "metadata": {},
   "outputs": [
    {
     "data": {
      "text/plain": [
       "1310816"
      ]
     },
     "execution_count": 8,
     "metadata": {},
     "output_type": "execute_result"
    }
   ],
   "source": [
    "sys.getsizeof(stats_corpus_info) #returns bytes"
   ]
  },
  {
   "cell_type": "code",
   "execution_count": 9,
   "metadata": {},
   "outputs": [],
   "source": [
    "P, N = parser.get_attactive_repulsive_entities(stats_corpus_info, K)"
   ]
  },
  {
   "cell_type": "code",
   "execution_count": 10,
   "metadata": {},
   "outputs": [
    {
     "data": {
      "text/plain": [
       "533952"
      ]
     },
     "execution_count": 10,
     "metadata": {},
     "output_type": "execute_result"
    }
   ],
   "source": [
    "sys.getsizeof(P)+sys.getsizeof(N)"
   ]
  },
  {
   "cell_type": "code",
   "execution_count": 11,
   "metadata": {},
   "outputs": [],
   "source": [
    "# due to memory usage\n",
    "del stats_corpus_info"
   ]
  },
  {
   "cell_type": "code",
   "execution_count": 12,
   "metadata": {},
   "outputs": [],
   "source": [
    "ut.serializer(object_=N, path=parser.p_folder, serialized_name='Negative_URIs')\n",
    "ut.serializer(object_=P, path=parser.p_folder, serialized_name='Positive_URIs')"
   ]
  },
  {
   "cell_type": "code",
   "execution_count": 13,
   "metadata": {},
   "outputs": [],
   "source": [
    "# Efficient representation\n",
    "holder = model.combine_information(P, N)\n",
    "del P\n",
    "del N"
   ]
  },
  {
   "cell_type": "code",
   "execution_count": 14,
   "metadata": {},
   "outputs": [
    {
     "data": {
      "text/plain": [
       "253632"
      ]
     },
     "execution_count": 14,
     "metadata": {},
     "output_type": "execute_result"
    }
   ],
   "source": [
    "sys.getsizeof(holder)#returns bytes"
   ]
  },
  {
   "cell_type": "code",
   "execution_count": 15,
   "metadata": {},
   "outputs": [],
   "source": [
    "embeddings = model.randomly_initialize_embedding_space(vocab_size, num_of_dims)\n",
    "# embeddings = model.initialize_with_svd(stats_corpus_info, num_of_dims)\n"
   ]
  },
  {
   "cell_type": "code",
   "execution_count": 16,
   "metadata": {},
   "outputs": [
    {
     "name": "stdout",
     "output_type": "stream",
     "text": [
      "\n",
      "###### Generating Embeddings:  starts ######\n",
      "EPOCH:  0\n",
      "EPOCH:  1\n",
      "\n",
      " Epoch:  1\n",
      "Previous norm 1247.6978800975821\n",
      "New norm 1247.6978800976046\n",
      "The differences in matrix norm  2.2509993868879974e-11\n",
      "d(Semantically Similar)/d(Not Semantically Similar)  0.0037690731580803075\n",
      "The state of equilibrium is reached.\n",
      "Generating Embeddings:  took  22.45474648475647  seconds\n",
      "\n"
     ]
    }
   ],
   "source": [
    "\n",
    "learned_embeddings = model.start(e=embeddings,\n",
    "                                 max_iteration=bound_on_iter, energy_release_at_epoch=e_release,\n",
    "                                 holder=holder, negative_constant=negative_constant)\n",
    "del embeddings\n",
    "del holder\n"
   ]
  },
  {
   "cell_type": "code",
   "execution_count": 17,
   "metadata": {},
   "outputs": [
    {
     "name": "stdout",
     "output_type": "stream",
     "text": [
      "\n",
      "###### Pipeline of DP  starts ######\n",
      "\n",
      "###### Prune non resources  starts ######\n",
      "Prune non resources  took  0.0028257369995117188  seconds\n",
      "\n",
      "\n",
      "###### Pseudo labeling via DBSCAN  starts ######\n",
      "Pseudo labeling via DBSCAN  took  1.1890599727630615  seconds\n",
      "\n",
      "\n",
      "###### Sample from mean of clusters  starts ######\n",
      "Sample from mean of clusters  took  0.7323789596557617  seconds\n",
      "\n",
      "Pipeline of DP  took  1.9297902584075928  seconds\n",
      "\n"
     ]
    }
   ],
   "source": [
    "representative_entities = analyser.pipeline_of_data_processing_single_run(learned_embeddings, num_sample_from_clusters)\n"
   ]
  },
  {
   "cell_type": "code",
   "execution_count": 18,
   "metadata": {},
   "outputs": [
    {
     "name": "stdout",
     "output_type": "stream",
     "text": [
      "\n",
      "###### DL-Learner  starts ######\n",
      "Total Num of clusters  [ 0 -1]\n",
      "DL-Learner  took  0.0046651363372802734  seconds\n",
      "\n",
      "[('/home/demir/Desktop/physical_embedding/Experiments/2019-02-14 16:24:50.477852', ['0.conf', '-1.conf'])]\n",
      "/home/demir/Desktop/physical_embedding/Experiments/2019-02-14 16:24:50.477852\n",
      "['0.conf', '-1.conf']\n"
     ]
    }
   ],
   "source": [
    "\n",
    "analyser.pipeline_of_single_evaluation_dl_learner(representative_entities)\n",
    "\n",
    "# run DL learner\n",
    "dl = analyser.generated_responds(experiment_folder)\n"
   ]
  },
  {
   "cell_type": "code",
   "execution_count": 19,
   "metadata": {},
   "outputs": [
    {
     "data": {
      "text/plain": [
       "[['\\n\\n',\n",
       "  '### 0.conf starts ###',\n",
       "  'DL-Learner command line interface',\n",
       "  \"Initializing component 'ks' of type OWL File ...\",\n",
       "  \"... initialized component 'ks' in 1ms. Status: OK\",\n",
       "  \"Initializing component 'reasoner' of type closed world reasoner ...\",\n",
       "  'OntologyID(Anonymous-2)',\n",
       "  'Loaded reasoner: Pellet (com.clarkparsia.pellet.owlapiv3.PelletReasoner)',\n",
       "  'Materializing TBox...',\n",
       "  '...TBox materialised in 189 ms.',\n",
       "  \"... initialized component 'reasoner' in 3s 482ms. Status: OK\",\n",
       "  \"Initializing component 'op' of type rho refinement operator ...\",\n",
       "  \"... initialized component 'op' in 4ms. Status: OK\",\n",
       "  \"Initializing component 'fmeasure' of type FMeasure ...\",\n",
       "  \"... initialized component 'fmeasure' in 0ms. Status: OK\",\n",
       "  \"Initializing component 'lp' of type PosNegLPStandard ...\",\n",
       "  \"... initialized component 'lp' in 0ms. Status: OK\",\n",
       "  \"Initializing component 'alg' of type CELOE ...\",\n",
       "  \"... initialized component 'alg' in 1ms. Status: OK\",\n",
       "  'Running algorithm instance \"alg\" (CELOE)',\n",
       "  'start class:⊤',\n",
       "  'more accurate (66.67%) class expression found after 38ms: ⊤',\n",
       "  'Algorithm terminated successfully (time: 30s 10ms, 2231 descriptions tested, 1837 nodes in the search tree).',\n",
       "  '',\n",
       "  'number of retrievals: 4070',\n",
       "  'retrieval reasoning time: 29s 32ms ( 7ms per retrieval)',\n",
       "  '(complex) subsumption checks: 6824 (0 multiple)',\n",
       "  'subsumption reasoning time: 136ms ( 0ms per subsumption check)',\n",
       "  'overall reasoning time: 29s 168ms',\n",
       "  '',\n",
       "  'solutions:',\n",
       "  '1: (Concept) (pred. acc.: 50.00%, F-measure: 66.67%)',\n",
       "  '2: Concept (pred. acc.: 50.00%, F-measure: 66.67%)',\n",
       "  '3: (Concept) (pred. acc.: 50.00%, F-measure: 66.67%)',\n",
       "  '4: Concept (pred. acc.: 50.00%, F-measure: 66.67%)',\n",
       "  '5: ⊤ (pred. acc.: 50.00%, F-measure: 66.67%)',\n",
       "  '6: Concept (pred. acc.: 50.00%, F-measure: 66.67%)',\n",
       "  '7: ⊤ (pred. acc.: 50.00%, F-measure: 66.67%)',\n",
       "  '8: ⊤ ⊓ Concept (pred. acc.: 50.00%, F-measure: 66.67%)',\n",
       "  '9: Concept ⊔ (Concept ⊓ (¬Concept)) (pred. acc.: 50.00%, F-measure: 66.67%)',\n",
       "  '',\n",
       "  '### 0.conf ends ###',\n",
       "  '\\n\\n',\n",
       "  '### -1.conf starts ###',\n",
       "  'DL-Learner command line interface',\n",
       "  \"Initializing component 'ks' of type OWL File ...\",\n",
       "  \"... initialized component 'ks' in 0ms. Status: OK\",\n",
       "  \"Initializing component 'reasoner' of type closed world reasoner ...\",\n",
       "  'OntologyID(Anonymous-2)',\n",
       "  'Loaded reasoner: Pellet (com.clarkparsia.pellet.owlapiv3.PelletReasoner)',\n",
       "  'Materializing TBox...',\n",
       "  '...TBox materialised in 172 ms.',\n",
       "  \"... initialized component 'reasoner' in 3s 110ms. Status: OK\",\n",
       "  \"Initializing component 'op' of type rho refinement operator ...\",\n",
       "  \"... initialized component 'op' in 3ms. Status: OK\",\n",
       "  \"Initializing component 'fmeasure' of type FMeasure ...\",\n",
       "  \"... initialized component 'fmeasure' in 0ms. Status: OK\",\n",
       "  \"Initializing component 'lp' of type PosNegLPStandard ...\",\n",
       "  \"... initialized component 'lp' in 1ms. Status: OK\",\n",
       "  \"Initializing component 'alg' of type CELOE ...\",\n",
       "  \"... initialized component 'alg' in 2ms. Status: OK\",\n",
       "  'Running algorithm instance \"alg\" (CELOE)',\n",
       "  'start class:⊤',\n",
       "  'more accurate (66.67%) class expression found after 27ms: ⊤',\n",
       "  'Algorithm terminated successfully (time: 30s 2ms, 2204 descriptions tested, 1810 nodes in the search tree).',\n",
       "  '',\n",
       "  'number of retrievals: 4016',\n",
       "  'retrieval reasoning time: 29s 60ms ( 7ms per retrieval)',\n",
       "  '(complex) subsumption checks: 6637 (0 multiple)',\n",
       "  'subsumption reasoning time: 126ms ( 0ms per subsumption check)',\n",
       "  'overall reasoning time: 29s 186ms',\n",
       "  '',\n",
       "  'solutions:',\n",
       "  '1: (Concept) (pred. acc.: 50.00%, F-measure: 66.67%)',\n",
       "  '2: Concept (pred. acc.: 50.00%, F-measure: 66.67%)',\n",
       "  '3: (Concept) (pred. acc.: 50.00%, F-measure: 66.67%)',\n",
       "  '4: Concept (pred. acc.: 50.00%, F-measure: 66.67%)',\n",
       "  '5: ⊤ (pred. acc.: 50.00%, F-measure: 66.67%)',\n",
       "  '6: Concept (pred. acc.: 50.00%, F-measure: 66.67%)',\n",
       "  '7: ⊤ (pred. acc.: 50.00%, F-measure: 66.67%)',\n",
       "  '8: ⊤ ⊓ Concept (pred. acc.: 50.00%, F-measure: 66.67%)',\n",
       "  '9: Concept ⊔ (Concept ⊓ (¬Concept)) (pred. acc.: 50.00%, F-measure: 66.67%)',\n",
       "  '',\n",
       "  '### -1.conf ends ###']]"
      ]
     },
     "execution_count": 19,
     "metadata": {},
     "output_type": "execute_result"
    }
   ],
   "source": [
    "dl"
   ]
  },
  {
   "cell_type": "code",
   "execution_count": null,
   "metadata": {},
   "outputs": [],
   "source": []
  }
 ],
 "metadata": {
  "kernelspec": {
   "display_name": "Python (pl2vec)",
   "language": "python",
   "name": "pl2vec"
  },
  "language_info": {
   "codemirror_mode": {
    "name": "ipython",
    "version": 3
   },
   "file_extension": ".py",
   "mimetype": "text/x-python",
   "name": "python",
   "nbconvert_exporter": "python",
   "pygments_lexer": "ipython3",
   "version": "3.6.4"
  }
 },
 "nbformat": 4,
 "nbformat_minor": 2
}
