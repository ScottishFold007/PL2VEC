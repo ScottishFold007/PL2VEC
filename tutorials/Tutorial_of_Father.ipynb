{
 "cells": [
  {
   "cell_type": "markdown",
   "metadata": {},
   "source": [
    "# Tutorial of PL2VEC"
   ]
  },
  {
   "cell_type": "code",
   "execution_count": 1,
   "metadata": {},
   "outputs": [
    {
     "data": {
      "text/plain": [
       "'/home/demir/Desktop/physical_embedding'"
      ]
     },
     "execution_count": 1,
     "metadata": {},
     "output_type": "execute_result"
    }
   ],
   "source": [
    "import os\n",
    "import matplotlib.pyplot as plt\n",
    "import numpy as np\n",
    "import pandas as pd\n",
    "import pickle\n",
    "import random\n",
    "import sys\n",
    "%matplotlib inline\n",
    "os.chdir('..')\n",
    "os.getcwd()"
   ]
  },
  {
   "cell_type": "code",
   "execution_count": 2,
   "metadata": {},
   "outputs": [],
   "source": [
    "from helper_classes import PL2VEC\n",
    "from helper_classes import Parser\n",
    "from helper_classes import DataAnalyser\n",
    "import util as ut"
   ]
  },
  {
   "cell_type": "markdown",
   "metadata": {},
   "source": [
    "### The input RDF graph\n",
    "\n",
    "Father is a folder containing .nt formatted RDF graph."
   ]
  },
  {
   "cell_type": "code",
   "execution_count": 3,
   "metadata": {},
   "outputs": [],
   "source": [
    "# Define paths\n",
    "kg_root = 'tutorials/knowledge graphs'\n",
    "kg_path = kg_root + '/Father' # or Father/father.nt\n",
    "dl_learner_path = '/home/demir/Desktop/physical_embedding/dllearner-1.3.0/bin/cli'"
   ]
  },
  {
   "cell_type": "code",
   "execution_count": 4,
   "metadata": {},
   "outputs": [],
   "source": [
    "#cat tutorials/knowledge\\ graphs/Father/father.nt"
   ]
  },
  {
   "cell_type": "code",
   "execution_count": 5,
   "metadata": {},
   "outputs": [],
   "source": [
    "# DEFINE MODEL PARAMS\n",
    "K = 3\n",
    "num_of_dims = 2\n",
    "bound_on_iter = 15\n",
    "negative_constant = -1\n",
    "e_release = 0.1\n",
    "num_sample_from_clusters = 2\n",
    "system_energy=10\n",
    "\n",
    "random_state = 1\n",
    "np.random.seed(random_state)\n",
    "random.seed(random_state)"
   ]
  },
  {
   "cell_type": "code",
   "execution_count": 6,
   "metadata": {},
   "outputs": [],
   "source": [
    "storage_path,experiment_folder= ut.create_experiment_folder()"
   ]
  },
  {
   "cell_type": "code",
   "execution_count": 7,
   "metadata": {},
   "outputs": [],
   "source": [
    "parser = Parser(p_folder=storage_path)\n",
    "\n",
    "model = PL2VEC(system_energy=system_energy)\n",
    "\n",
    "analyser = DataAnalyser(p_folder=storage_path, execute_DL_Learner=dl_learner_path)"
   ]
  },
  {
   "cell_type": "code",
   "execution_count": 8,
   "metadata": {},
   "outputs": [
    {
     "name": "stdout",
     "output_type": "stream",
     "text": [
      "\n",
      "###### KG to PPMI Matrix  starts ######\n",
      "KG to PPMI Matrix  took  0.003312826156616211  seconds\n",
      "\n"
     ]
    }
   ],
   "source": [
    "stats_corpus_info = parser.construct_comatrix(kg_path, bound=500, bound_flag=True)\n",
    "vocab_size = len(stats_corpus_info)"
   ]
  },
  {
   "cell_type": "code",
   "execution_count": 9,
   "metadata": {},
   "outputs": [
    {
     "data": {
      "text/plain": [
       "368"
      ]
     },
     "execution_count": 9,
     "metadata": {},
     "output_type": "execute_result"
    }
   ],
   "source": [
    "sys.getsizeof(stats_corpus_info)#returns bytes"
   ]
  },
  {
   "cell_type": "code",
   "execution_count": 10,
   "metadata": {},
   "outputs": [],
   "source": [
    "P, N = parser.get_attactive_repulsive_entities(stats_corpus_info, K)"
   ]
  },
  {
   "cell_type": "code",
   "execution_count": 11,
   "metadata": {},
   "outputs": [],
   "source": [
    "# due to memory usage\n",
    "del stats_corpus_info"
   ]
  },
  {
   "cell_type": "code",
   "execution_count": 12,
   "metadata": {},
   "outputs": [],
   "source": [
    "ut.serializer(object_=N, path=parser.p_folder, serialized_name='Negative_URIs')\n",
    "ut.serializer(object_=P, path=parser.p_folder, serialized_name='Positive_URIs')"
   ]
  },
  {
   "cell_type": "code",
   "execution_count": 13,
   "metadata": {},
   "outputs": [
    {
     "data": {
      "text/plain": [
       "392"
      ]
     },
     "execution_count": 13,
     "metadata": {},
     "output_type": "execute_result"
    }
   ],
   "source": [
    "sys.getsizeof(P)+sys.getsizeof(N)"
   ]
  },
  {
   "cell_type": "code",
   "execution_count": 14,
   "metadata": {},
   "outputs": [],
   "source": [
    "holder = model.combine_information(P, N)\n",
    "del P\n",
    "del N"
   ]
  },
  {
   "cell_type": "code",
   "execution_count": 15,
   "metadata": {},
   "outputs": [
    {
     "data": {
      "text/plain": [
       "192"
      ]
     },
     "execution_count": 15,
     "metadata": {},
     "output_type": "execute_result"
    }
   ],
   "source": [
    "sys.getsizeof(holder)"
   ]
  },
  {
   "cell_type": "code",
   "execution_count": 16,
   "metadata": {},
   "outputs": [],
   "source": [
    "embeddings = model.randomly_initialize_embedding_space(vocab_size, num_of_dims)\n",
    "# embeddings = model.initialize_with_svd(stats_corpus_info, num_of_dims)"
   ]
  },
  {
   "cell_type": "code",
   "execution_count": 17,
   "metadata": {},
   "outputs": [
    {
     "data": {
      "image/png": "[encoded data removed]",
      "text/plain": [
       "<Figure size 432x288 with 1 Axes>"
      ]
     },
     "metadata": {
      "needs_background": "light"
     },
     "output_type": "display_data"
    }
   ],
   "source": [
    "ut.visualize_2D(low_embeddings=embeddings,storage_path=storage_path,title='Random Embedding Space')"
   ]
  },
  {
   "cell_type": "code",
   "execution_count": 18,
   "metadata": {},
   "outputs": [
    {
     "name": "stdout",
     "output_type": "stream",
     "text": [
      "\n",
      "###### Generating Embeddings:  starts ######\n",
      "EPOCH:  0\n",
      "EPOCH:  1\n",
      "\n",
      " Epoch:  1\n",
      "Previous norm 4.47213595499958\n",
      "New norm 4.47213595499958\n",
      "The differences in matrix norm  0.0\n",
      "d(Semantically Similar)/d(Not Semantically Similar)  0.7670393755837919\n",
      "The state of equilibrium is reached.\n",
      "Generating Embeddings:  took  0.017252206802368164  seconds\n",
      "\n"
     ]
    }
   ],
   "source": [
    "learned_embeddings = model.start(e=embeddings,\n",
    "                                 max_iteration=bound_on_iter, energy_release_at_epoch=e_release,\n",
    "                                 holder=holder, negative_constant=negative_constant)\n",
    "del embeddings\n",
    "del holder"
   ]
  },
  {
   "cell_type": "code",
   "execution_count": 20,
   "metadata": {},
   "outputs": [
    {
     "name": "stdout",
     "output_type": "stream",
     "text": [
      "\n",
      "###### Pipeline of DP  starts ######\n",
      "\n",
      "###### Prune non resources  starts ######\n",
      "Prune non resources  took  0.0014507770538330078  seconds\n",
      "\n",
      "\n",
      "###### Pseudo labeling via DBSCAN  starts ######\n",
      "Pseudo labeling via DBSCAN  took  0.010645866394042969  seconds\n",
      "\n",
      "\n",
      "###### Sample from mean of clusters  starts ######\n",
      "Sample from mean of clusters  took  0.017246246337890625  seconds\n",
      "\n",
      "Pipeline of DP  took  0.0408778190612793  seconds\n",
      "\n"
     ]
    }
   ],
   "source": [
    "representative_entities = analyser.pipeline_of_data_processing_single_run(learned_embeddings, num_sample_from_clusters)"
   ]
  },
  {
   "cell_type": "code",
   "execution_count": 21,
   "metadata": {},
   "outputs": [
    {
     "name": "stdout",
     "output_type": "stream",
     "text": [
      "\n",
      "###### DL-Learner  starts ######\n",
      "Total Num of clusters  [-1]\n",
      "DL-Learner  took  0.0053708553314208984  seconds\n",
      "\n"
     ]
    }
   ],
   "source": [
    "analyser.pipeline_of_single_evaluation_dl_learner(representative_entities)"
   ]
  },
  {
   "cell_type": "code",
   "execution_count": 22,
   "metadata": {},
   "outputs": [
    {
     "data": {
      "image/png": "[encoded data removed]",
      "text/plain": [
       "<Figure size 432x288 with 1 Axes>"
      ]
     },
     "metadata": {
      "needs_background": "light"
     },
     "output_type": "display_data"
    }
   ],
   "source": [
    "ut.visualize_2D(low_embeddings=learned_embeddings,storage_path=storage_path,title='Learned Embedding Space')"
   ]
  },
  {
   "cell_type": "code",
   "execution_count": 23,
   "metadata": {},
   "outputs": [
    {
     "data": {
      "text/plain": [
       "{-1: ['http://example.com/father#markus', 'http://example.com/father#anna']}"
      ]
     },
     "execution_count": 23,
     "metadata": {},
     "output_type": "execute_result"
    }
   ],
   "source": [
    "representative_entities"
   ]
  },
  {
   "cell_type": "code",
   "execution_count": 24,
   "metadata": {},
   "outputs": [
    {
     "name": "stdout",
     "output_type": "stream",
     "text": [
      "[('/home/demir/Desktop/physical_embedding/Experiments/2019-02-14 16:04:50.834311', ['-1.conf'])]\n",
      "/home/demir/Desktop/physical_embedding/Experiments/2019-02-14 16:04:50.834311\n",
      "['-1.conf']\n"
     ]
    },
    {
     "data": {
      "text/plain": [
       "[['\\n\\n',\n",
       "  '### -1.conf starts ###',\n",
       "  'DL-Learner command line interface',\n",
       "  \"Initializing component 'ks' of type OWL File ...\",\n",
       "  \"... initialized component 'ks' in 0ms. Status: OK\",\n",
       "  \"Initializing component 'reasoner' of type closed world reasoner ...\",\n",
       "  'OntologyID(Anonymous-2)',\n",
       "  'Loaded reasoner: Pellet (com.clarkparsia.pellet.owlapiv3.PelletReasoner)',\n",
       "  'Materializing TBox...',\n",
       "  '...TBox materialised in 98 ms.',\n",
       "  \"... initialized component 'reasoner' in 838ms. Status: OK\",\n",
       "  \"Initializing component 'op' of type rho refinement operator ...\",\n",
       "  \"... initialized component 'op' in 3ms. Status: OK\",\n",
       "  \"Initializing component 'fmeasure' of type FMeasure ...\",\n",
       "  \"... initialized component 'fmeasure' in 0ms. Status: OK\",\n",
       "  \"Initializing component 'lp' of type PosNegLPStandard ...\",\n",
       "  \"... initialized component 'lp' in 0ms. Status: OK\",\n",
       "  \"Initializing component 'alg' of type CELOE ...\",\n",
       "  \"... initialized component 'alg' in 1ms. Status: OK\",\n",
       "  'Running algorithm instance \"alg\" (CELOE)',\n",
       "  'start class:⊤',\n",
       "  'more accurate (66.67%) class expression found after 32ms: ⊤',\n",
       "  'Algorithm terminated successfully (time: 30s 177ms, 242382 descriptions tested, 122400 nodes in the search tree).',\n",
       "  '',\n",
       "  'number of retrievals: 243402',\n",
       "  'retrieval reasoning time: 1s 486ms ( 0ms per retrieval)',\n",
       "  '(complex) subsumption checks: 5807 (0 multiple)',\n",
       "  'subsumption reasoning time: 181ms ( 0ms per subsumption check)',\n",
       "  'overall reasoning time: 1s 668ms',\n",
       "  '',\n",
       "  'solutions:',\n",
       "  '1: ⊤ (pred. acc.: 50.00%, F-measure: 66.67%)',\n",
       "  '2: ⊤ (pred. acc.: 50.00%, F-measure: 66.67%)',\n",
       "  '3: (female) ⊔ (male) (pred. acc.: 50.00%, F-measure: 66.67%)',\n",
       "  '4: male ⊔ (female) (pred. acc.: 50.00%, F-measure: 66.67%)',\n",
       "  '5: female ⊔ (male) (pred. acc.: 50.00%, F-measure: 66.67%)',\n",
       "  '6: female ⊔ male (pred. acc.: 50.00%, F-measure: 66.67%)',\n",
       "  '7: (female ⊔ male) (pred. acc.: 50.00%, F-measure: 66.67%)',\n",
       "  '8: (¬female) ⊔ (¬male) (pred. acc.: 50.00%, F-measure: 66.67%)',\n",
       "  '9: ((¬female)) ⊔ (¬male) (pred. acc.: 50.00%, F-measure: 66.67%)',\n",
       "  '10: (female ⊔ male) ⊓ ((¬female) ⊔ (¬male)) (pred. acc.: 50.00%, F-measure: 66.67%)',\n",
       "  '',\n",
       "  '### -1.conf ends ###']]"
      ]
     },
     "execution_count": 24,
     "metadata": {},
     "output_type": "execute_result"
    }
   ],
   "source": [
    "# run DL learner\n",
    "analyser.generated_responds(experiment_folder)"
   ]
  }
 ],
 "metadata": {
  "kernelspec": {
   "display_name": "Python (pl2vec)",
   "language": "python",
   "name": "pl2vec"
  },
  "language_info": {
   "codemirror_mode": {
    "name": "ipython",
    "version": 3
   },
   "file_extension": ".py",
   "mimetype": "text/x-python",
   "name": "python",
   "nbconvert_exporter": "python",
   "pygments_lexer": "ipython3",
   "version": "3.6.4"
  }
 },
 "nbformat": 4,
 "nbformat_minor": 2
}
